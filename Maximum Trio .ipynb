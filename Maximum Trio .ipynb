{
 "cells": [
  {
   "cell_type": "code",
   "execution_count": 2,
   "id": "5455c77e",
   "metadata": {},
   "outputs": [
    {
     "name": "stdout",
     "output_type": "stream",
     "text": [
      "1\n",
      "5\n",
      "23 17 21 18 19\n",
      "126\n"
     ]
    }
   ],
   "source": [
    "for _ in range(int(input())):\n",
    "    x=int(input())\n",
    "    l=list(map(int,input().split()))\n",
    "    d=sorted(l)\n",
    "    z=(d[x-1]-d[0])*d[x-2]\n",
    "    print(z)"
   ]
  },
  {
   "cell_type": "code",
   "execution_count": null,
   "id": "f51471e9",
   "metadata": {},
   "outputs": [],
   "source": [
    "17 18 19 21 23"
   ]
  }
 ],
 "metadata": {
  "kernelspec": {
   "display_name": "Python 3",
   "language": "python",
   "name": "python3"
  },
  "language_info": {
   "codemirror_mode": {
    "name": "ipython",
    "version": 3
   },
   "file_extension": ".py",
   "mimetype": "text/x-python",
   "name": "python",
   "nbconvert_exporter": "python",
   "pygments_lexer": "ipython3",
   "version": "3.8.8"
  }
 },
 "nbformat": 4,
 "nbformat_minor": 5
}
