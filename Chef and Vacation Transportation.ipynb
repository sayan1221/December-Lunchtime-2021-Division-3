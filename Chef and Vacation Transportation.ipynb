{
 "cells": [
  {
   "cell_type": "code",
   "execution_count": null,
   "id": "08f6aab5",
   "metadata": {},
   "outputs": [],
   "source": []
  },
  {
   "cell_type": "code",
   "execution_count": 2,
   "id": "ab712f54",
   "metadata": {},
   "outputs": [
    {
     "name": "stdout",
     "output_type": "stream",
     "text": [
      "3\n",
      "10 12 11\n",
      "TRAIN\n",
      "3 5 15\n",
      "PLANEBUS\n",
      "9 4 13\n",
      "EQUAL\n"
     ]
    }
   ],
   "source": [
    "for _ in range(int(input())):\n",
    "    x,y,z=map(int,input().split())\n",
    "    if((x+y)==z):\n",
    "        print(\"EQUAL\")\n",
    "    elif((x+y)>z):\n",
    "        print(\"TRAIN\")\n",
    "    else:\n",
    "        print(\"PLANEBUS\")\n",
    "        \n",
    "    "
   ]
  },
  {
   "cell_type": "code",
   "execution_count": null,
   "id": "09930ad1",
   "metadata": {},
   "outputs": [],
   "source": []
  }
 ],
 "metadata": {
  "kernelspec": {
   "display_name": "Python 3",
   "language": "python",
   "name": "python3"
  },
  "language_info": {
   "codemirror_mode": {
    "name": "ipython",
    "version": 3
   },
   "file_extension": ".py",
   "mimetype": "text/x-python",
   "name": "python",
   "nbconvert_exporter": "python",
   "pygments_lexer": "ipython3",
   "version": "3.8.8"
  }
 },
 "nbformat": 4,
 "nbformat_minor": 5
}
