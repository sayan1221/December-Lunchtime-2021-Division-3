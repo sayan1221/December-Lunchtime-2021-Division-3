{
 "cells": [
  {
   "cell_type": "code",
   "execution_count": 16,
   "id": "593df5d2",
   "metadata": {},
   "outputs": [
    {
     "name": "stdout",
     "output_type": "stream",
     "text": [
      "1\n",
      "10\n",
      "0100111100\n",
      "4\n"
     ]
    }
   ],
   "source": [
    "for _ in range(int(input())):\n",
    "    x=int(input())\n",
    "    y=str(input())\n",
    "    a=y.count('0')\n",
    "    b=y.count('1')\n",
    "#     if(a==0):\n",
    "#         print(0)\n",
    "#     else:\n",
    "#         print(min(a,b)-1)\n",
    "    ans=0\n",
    "    ans=max(ans,min(a,b)-1)\n",
    "    print(ans)"
   ]
  },
  {
   "cell_type": "code",
   "execution_count": null,
   "id": "3cf3125c",
   "metadata": {},
   "outputs": [],
   "source": []
  }
 ],
 "metadata": {
  "kernelspec": {
   "display_name": "Python 3",
   "language": "python",
   "name": "python3"
  },
  "language_info": {
   "codemirror_mode": {
    "name": "ipython",
    "version": 3
   },
   "file_extension": ".py",
   "mimetype": "text/x-python",
   "name": "python",
   "nbconvert_exporter": "python",
   "pygments_lexer": "ipython3",
   "version": "3.8.8"
  }
 },
 "nbformat": 4,
 "nbformat_minor": 5
}
